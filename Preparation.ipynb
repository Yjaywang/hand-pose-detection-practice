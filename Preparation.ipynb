{
 "cells": [
  {
   "cell_type": "code",
   "execution_count": 1,
   "id": "209d226b",
   "metadata": {},
   "outputs": [],
   "source": [
    "import cv2\n",
    "import time\n",
    "import os\n",
    "import uuid"
   ]
  },
  {
   "cell_type": "code",
   "execution_count": 2,
   "id": "aca94637",
   "metadata": {},
   "outputs": [],
   "source": [
    "IMAGES_PATH= \"Tensorflow\\workspace\\images\\collectedimages\""
   ]
  },
  {
   "cell_type": "code",
   "execution_count": 3,
   "id": "25794bbc",
   "metadata": {},
   "outputs": [],
   "source": [
    "labels=[\"love\", \"thumbs_up\", \"congratulations\", \"boo\", \"raise_hand\", \"cheer_up\", \"hello\", \"ok\", \"no\"]\n",
    "number_imgs=15"
   ]
  },
  {
   "cell_type": "code",
   "execution_count": null,
   "id": "3cff2ef3",
   "metadata": {},
   "outputs": [
    {
     "name": "stderr",
     "output_type": "stream",
     "text": [
      "A subdirectory or file Tensorflow\\workspace\\images\\collectedimages\\love already exists.\n"
     ]
    },
    {
     "name": "stdout",
     "output_type": "stream",
     "text": [
      "Collecting images for love\n"
     ]
    },
    {
     "name": "stderr",
     "output_type": "stream",
     "text": [
      "A subdirectory or file Tensorflow\\workspace\\images\\collectedimages\\thumbs_up already exists.\n"
     ]
    },
    {
     "name": "stdout",
     "output_type": "stream",
     "text": [
      "Collecting images for thumbs_up\n"
     ]
    },
    {
     "name": "stderr",
     "output_type": "stream",
     "text": [
      "A subdirectory or file Tensorflow\\workspace\\images\\collectedimages\\congratulations already exists.\n"
     ]
    },
    {
     "name": "stdout",
     "output_type": "stream",
     "text": [
      "Collecting images for congratulations\n"
     ]
    },
    {
     "name": "stderr",
     "output_type": "stream",
     "text": [
      "A subdirectory or file Tensorflow\\workspace\\images\\collectedimages\\boo already exists.\n"
     ]
    },
    {
     "name": "stdout",
     "output_type": "stream",
     "text": [
      "Collecting images for boo\n"
     ]
    },
    {
     "name": "stderr",
     "output_type": "stream",
     "text": [
      "A subdirectory or file Tensorflow\\workspace\\images\\collectedimages\\raise_hand already exists.\n"
     ]
    },
    {
     "name": "stdout",
     "output_type": "stream",
     "text": [
      "Collecting images for raise_hand\n"
     ]
    },
    {
     "name": "stderr",
     "output_type": "stream",
     "text": [
      "A subdirectory or file Tensorflow\\workspace\\images\\collectedimages\\cheer_up already exists.\n"
     ]
    },
    {
     "name": "stdout",
     "output_type": "stream",
     "text": [
      "Collecting images for cheer_up\n"
     ]
    },
    {
     "name": "stderr",
     "output_type": "stream",
     "text": [
      "A subdirectory or file Tensorflow\\workspace\\images\\collectedimages\\hello already exists.\n"
     ]
    },
    {
     "name": "stdout",
     "output_type": "stream",
     "text": [
      "Collecting images for hello\n"
     ]
    },
    {
     "name": "stderr",
     "output_type": "stream",
     "text": [
      "A subdirectory or file Tensorflow\\workspace\\images\\collectedimages\\ok already exists.\n"
     ]
    },
    {
     "name": "stdout",
     "output_type": "stream",
     "text": [
      "Collecting images for ok\n"
     ]
    },
    {
     "name": "stderr",
     "output_type": "stream",
     "text": [
      "A subdirectory or file Tensorflow\\workspace\\images\\collectedimages\\no already exists.\n"
     ]
    },
    {
     "name": "stdout",
     "output_type": "stream",
     "text": [
      "Collecting images for no\n"
     ]
    }
   ],
   "source": [
    "for label in labels:\n",
    "    directory_name = \"Tensorflow\\\\workspace\\\\images\\\\collectedimages\\\\\" + label\n",
    "    !mkdir $directory_name\n",
    "    cap = cv2.VideoCapture(0)\n",
    "    if cap.isOpened():\n",
    "        print(\"Collecting images for {}\".format(label))\n",
    "        time.sleep(5)\n",
    "        for imgnum in range(number_imgs):\n",
    "            ret, frame = cap.read()\n",
    "            if ret:\n",
    "                imagename = os.path.join(IMAGES_PATH, label, label+\".\"+\"{}.jpg\".format(str(uuid.uuid1())))\n",
    "                cv2.imwrite(imagename, frame)\n",
    "                cv2.imshow(\"frame\", frame)\n",
    "                time.sleep(2)\n",
    "\n",
    "                if cv2.waitKey(1) & 0xFF == ord(\"q\"):\n",
    "                    break\n",
    "    cap.release()"
   ]
  },
  {
   "cell_type": "code",
   "execution_count": 31,
   "id": "3d501a47",
   "metadata": {},
   "outputs": [],
   "source": [
    "\n"
   ]
  },
  {
   "cell_type": "code",
   "execution_count": null,
   "id": "a0e1a515",
   "metadata": {},
   "outputs": [],
   "source": []
  }
 ],
 "metadata": {
  "kernelspec": {
   "display_name": "Python 3 (ipykernel)",
   "language": "python",
   "name": "python3"
  },
  "language_info": {
   "codemirror_mode": {
    "name": "ipython",
    "version": 3
   },
   "file_extension": ".py",
   "mimetype": "text/x-python",
   "name": "python",
   "nbconvert_exporter": "python",
   "pygments_lexer": "ipython3",
   "version": "3.9.13"
  },
  "vscode": {
   "interpreter": {
    "hash": "5ca10262de4900a20e7ce514200c9e784d94f7730503b44ded5c34771089d176"
   }
  }
 },
 "nbformat": 4,
 "nbformat_minor": 5
}
